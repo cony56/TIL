{
 "cells": [
  {
   "cell_type": "code",
   "execution_count": 113,
   "metadata": {},
   "outputs": [],
   "source": [
    "%matplotlib inline\n",
    "import pandas as pd\n",
    "import matplotlib.pyplot as plt"
   ]
  },
  {
   "cell_type": "code",
   "execution_count": 5,
   "metadata": {},
   "outputs": [],
   "source": [
    "data = pd.read_csv('convenient_store.csv')"
   ]
  },
  {
   "cell_type": "code",
   "execution_count": null,
   "metadata": {},
   "outputs": [],
   "source": [
    "##1. csv 파일 불러오기 (convenient_store.csv)"
   ]
  },
  {
   "cell_type": "code",
   "execution_count": 6,
   "metadata": {},
   "outputs": [
    {
     "name": "stdout",
     "output_type": "stream",
     "text": [
      "<class 'pandas.core.frame.DataFrame'>\n",
      "RangeIndex: 177 entries, 0 to 176\n",
      "Data columns (total 7 columns):\n",
      " #   Column       Non-Null Count  Dtype \n",
      "---  ------       --------------  ----- \n",
      " 0   area         177 non-null    object\n",
      " 1   company      177 non-null    object\n",
      " 2   hourly_wage  177 non-null    int64 \n",
      " 3   area1        177 non-null    object\n",
      " 4   area2        177 non-null    object\n",
      " 5   outlier      177 non-null    int64 \n",
      " 6   name         177 non-null    object\n",
      "dtypes: int64(2), object(5)\n",
      "memory usage: 9.8+ KB\n"
     ]
    }
   ],
   "source": [
    "data.info()"
   ]
  },
  {
   "cell_type": "code",
   "execution_count": 8,
   "metadata": {},
   "outputs": [
    {
     "data": {
      "text/plain": [
       "area           0\n",
       "company        0\n",
       "hourly_wage    0\n",
       "area1          0\n",
       "area2          0\n",
       "outlier        0\n",
       "name           0\n",
       "dtype: int64"
      ]
     },
     "execution_count": 8,
     "metadata": {},
     "output_type": "execute_result"
    }
   ],
   "source": [
    "data.isnull().sum()"
   ]
  },
  {
   "cell_type": "code",
   "execution_count": 26,
   "metadata": {},
   "outputs": [],
   "source": [
    "##2. 전체 컬럼 정보, null 값 유무 확인"
   ]
  },
  {
   "cell_type": "code",
   "execution_count": 25,
   "metadata": {},
   "outputs": [
    {
     "data": {
      "text/plain": [
       "count     177.000000\n",
       "mean     5787.627119\n",
       "std       352.318646\n",
       "min      5580.000000\n",
       "25%      5580.000000\n",
       "50%      5600.000000\n",
       "75%      6000.000000\n",
       "max      7500.000000\n",
       "Name: hourly_wage, dtype: float64"
      ]
     },
     "execution_count": 25,
     "metadata": {},
     "output_type": "execute_result"
    }
   ],
   "source": [
    "data.describe().iloc[:,0]"
   ]
  },
  {
   "cell_type": "code",
   "execution_count": 27,
   "metadata": {},
   "outputs": [],
   "source": [
    "##3. 개수, 평균, 편차, 최소, 최대값 확인"
   ]
  },
  {
   "cell_type": "code",
   "execution_count": 128,
   "metadata": {},
   "outputs": [
    {
     "data": {
      "text/plain": [
       "count         177\n",
       "unique        117\n",
       "top       강남구 논현동\n",
       "freq            7\n",
       "Name: area, dtype: object"
      ]
     },
     "execution_count": 128,
     "metadata": {},
     "output_type": "execute_result"
    }
   ],
   "source": [
    "data.area.describe()"
   ]
  },
  {
   "cell_type": "code",
   "execution_count": 28,
   "metadata": {},
   "outputs": [],
   "source": [
    "##4. 지역에 대한 통계, 개수, 유니크한 정보, 제일 빈도가 높은 지역"
   ]
  },
  {
   "cell_type": "code",
   "execution_count": 58,
   "metadata": {},
   "outputs": [
    {
     "data": {
      "text/plain": [
       "array(['세븐일레븐편의점', 'CU 이태원프리덤점', 'BGF Retail CU 신촌세브란스병원점', '세븐일레븐',\n",
       "       '세븐일레븐 서울호서대점', 'CU 한남리첸시아점', '세븐일레븐 청담그린점', '세븐일레븐 구로리공원점',\n",
       "       '세븐일레븐', '세븐일레븐 마포홍익점'], dtype=object)"
      ]
     },
     "execution_count": 58,
     "metadata": {},
     "output_type": "execute_result"
    }
   ],
   "source": [
    "data[data['hourly_wage']>=6500].sort_values(ascending=False,by='hourly_wage').head(10)['company'].values"
   ]
  },
  {
   "cell_type": "code",
   "execution_count": 29,
   "metadata": {},
   "outputs": [],
   "source": [
    "##5. 시간 당 급여가 6500원 이상인 지역의 편의점 정보 출력 (상위 10개만)"
   ]
  },
  {
   "cell_type": "code",
   "execution_count": 42,
   "metadata": {},
   "outputs": [
    {
     "data": {
      "text/html": [
       "<div>\n",
       "<style scoped>\n",
       "    .dataframe tbody tr th:only-of-type {\n",
       "        vertical-align: middle;\n",
       "    }\n",
       "\n",
       "    .dataframe tbody tr th {\n",
       "        vertical-align: top;\n",
       "    }\n",
       "\n",
       "    .dataframe thead th {\n",
       "        text-align: right;\n",
       "    }\n",
       "</style>\n",
       "<table border=\"1\" class=\"dataframe\">\n",
       "  <thead>\n",
       "    <tr style=\"text-align: right;\">\n",
       "      <th></th>\n",
       "      <th>area</th>\n",
       "      <th>company</th>\n",
       "      <th>hourly_wage</th>\n",
       "      <th>area1</th>\n",
       "      <th>area2</th>\n",
       "      <th>outlier</th>\n",
       "      <th>name</th>\n",
       "    </tr>\n",
       "  </thead>\n",
       "  <tbody>\n",
       "    <tr>\n",
       "      <th>173</th>\n",
       "      <td>용산구 이태원동</td>\n",
       "      <td>CU 이태원프리덤점</td>\n",
       "      <td>7500</td>\n",
       "      <td>용산구</td>\n",
       "      <td>이태원동</td>\n",
       "      <td>0</td>\n",
       "      <td>CU</td>\n",
       "    </tr>\n",
       "    <tr>\n",
       "      <th>29</th>\n",
       "      <td>강남구 논현동</td>\n",
       "      <td>세븐일레븐편의점</td>\n",
       "      <td>7500</td>\n",
       "      <td>강남구</td>\n",
       "      <td>논현동</td>\n",
       "      <td>0</td>\n",
       "      <td>7/11</td>\n",
       "    </tr>\n",
       "    <tr>\n",
       "      <th>160</th>\n",
       "      <td>서대문구 신촌동</td>\n",
       "      <td>BGF Retail CU 신촌세브란스병원점</td>\n",
       "      <td>6900</td>\n",
       "      <td>서대문구</td>\n",
       "      <td>신촌동</td>\n",
       "      <td>0</td>\n",
       "      <td>CU</td>\n",
       "    </tr>\n",
       "    <tr>\n",
       "      <th>135</th>\n",
       "      <td>중구 명동2가</td>\n",
       "      <td>세븐일레븐</td>\n",
       "      <td>6690</td>\n",
       "      <td>중구</td>\n",
       "      <td>명동2가</td>\n",
       "      <td>0</td>\n",
       "      <td>7/11</td>\n",
       "    </tr>\n",
       "    <tr>\n",
       "      <th>37</th>\n",
       "      <td>강서구 등촌동</td>\n",
       "      <td>세븐일레븐 서울호서대점</td>\n",
       "      <td>6600</td>\n",
       "      <td>강서구</td>\n",
       "      <td>등촌동</td>\n",
       "      <td>0</td>\n",
       "      <td>7/11</td>\n",
       "    </tr>\n",
       "    <tr>\n",
       "      <th>172</th>\n",
       "      <td>용산구 한남동</td>\n",
       "      <td>CU 한남리첸시아점</td>\n",
       "      <td>6600</td>\n",
       "      <td>용산구</td>\n",
       "      <td>한남동</td>\n",
       "      <td>0</td>\n",
       "      <td>CU</td>\n",
       "    </tr>\n",
       "    <tr>\n",
       "      <th>161</th>\n",
       "      <td>서대문구 현저동</td>\n",
       "      <td>CU 독립문극동점</td>\n",
       "      <td>6500</td>\n",
       "      <td>서대문구</td>\n",
       "      <td>현저동</td>\n",
       "      <td>0</td>\n",
       "      <td>CU</td>\n",
       "    </tr>\n",
       "    <tr>\n",
       "      <th>60</th>\n",
       "      <td>도봉구 창동</td>\n",
       "      <td>세븐일레븐</td>\n",
       "      <td>6500</td>\n",
       "      <td>도봉구</td>\n",
       "      <td>창동</td>\n",
       "      <td>0</td>\n",
       "      <td>7/11</td>\n",
       "    </tr>\n",
       "    <tr>\n",
       "      <th>137</th>\n",
       "      <td>중구 북창동</td>\n",
       "      <td>세븐일레븐 북창점</td>\n",
       "      <td>6500</td>\n",
       "      <td>중구</td>\n",
       "      <td>북창동</td>\n",
       "      <td>0</td>\n",
       "      <td>7/11</td>\n",
       "    </tr>\n",
       "    <tr>\n",
       "      <th>30</th>\n",
       "      <td>강남구 청담동</td>\n",
       "      <td>세븐일레븐 청담그린점</td>\n",
       "      <td>6500</td>\n",
       "      <td>강남구</td>\n",
       "      <td>청담동</td>\n",
       "      <td>0</td>\n",
       "      <td>7/11</td>\n",
       "    </tr>\n",
       "  </tbody>\n",
       "</table>\n",
       "</div>"
      ],
      "text/plain": [
       "         area                  company  hourly_wage area1 area2  outlier  name\n",
       "173  용산구 이태원동               CU 이태원프리덤점         7500   용산구  이태원동        0    CU\n",
       "29    강남구 논현동                 세븐일레븐편의점         7500   강남구   논현동        0  7/11\n",
       "160  서대문구 신촌동  BGF Retail CU 신촌세브란스병원점         6900  서대문구   신촌동        0    CU\n",
       "135   중구 명동2가                    세븐일레븐         6690    중구  명동2가        0  7/11\n",
       "37    강서구 등촌동             세븐일레븐 서울호서대점         6600   강서구   등촌동        0  7/11\n",
       "172   용산구 한남동               CU 한남리첸시아점         6600   용산구   한남동        0    CU\n",
       "161  서대문구 현저동                CU 독립문극동점         6500  서대문구   현저동        0    CU\n",
       "60     도봉구 창동                    세븐일레븐         6500   도봉구    창동        0  7/11\n",
       "137    중구 북창동                세븐일레븐 북창점         6500    중구   북창동        0  7/11\n",
       "30    강남구 청담동              세븐일레븐 청담그린점         6500   강남구   청담동        0  7/11"
      ]
     },
     "execution_count": 42,
     "metadata": {},
     "output_type": "execute_result"
    }
   ],
   "source": [
    "data.sort_values(ascending=False, by='hourly_wage').head(10)"
   ]
  },
  {
   "cell_type": "code",
   "execution_count": 30,
   "metadata": {},
   "outputs": [],
   "source": [
    "##6. 시간 당 급여가 높은 순서로 정렬 (sort_value() 함수 사용, 상위 10개만 출력)"
   ]
  },
  {
   "cell_type": "code",
   "execution_count": 65,
   "metadata": {},
   "outputs": [
    {
     "data": {
      "text/html": [
       "<div>\n",
       "<style scoped>\n",
       "    .dataframe tbody tr th:only-of-type {\n",
       "        vertical-align: middle;\n",
       "    }\n",
       "\n",
       "    .dataframe tbody tr th {\n",
       "        vertical-align: top;\n",
       "    }\n",
       "\n",
       "    .dataframe thead th {\n",
       "        text-align: right;\n",
       "    }\n",
       "</style>\n",
       "<table border=\"1\" class=\"dataframe\">\n",
       "  <thead>\n",
       "    <tr style=\"text-align: right;\">\n",
       "      <th></th>\n",
       "      <th>area</th>\n",
       "      <th>company</th>\n",
       "      <th>hourly_wage</th>\n",
       "      <th>area1</th>\n",
       "      <th>area2</th>\n",
       "      <th>outlier</th>\n",
       "      <th>name</th>\n",
       "    </tr>\n",
       "  </thead>\n",
       "  <tbody>\n",
       "    <tr>\n",
       "      <th>13</th>\n",
       "      <td>영등포구 영등포동</td>\n",
       "      <td>gs25</td>\n",
       "      <td>6300</td>\n",
       "      <td>영등포구</td>\n",
       "      <td>영등포동</td>\n",
       "      <td>0</td>\n",
       "      <td>gs25</td>\n",
       "    </tr>\n",
       "    <tr>\n",
       "      <th>107</th>\n",
       "      <td>영등포구 영등포동</td>\n",
       "      <td>세븐일레븐 영등포 2호점</td>\n",
       "      <td>6200</td>\n",
       "      <td>영등포구</td>\n",
       "      <td>영등포동</td>\n",
       "      <td>0</td>\n",
       "      <td>7/11</td>\n",
       "    </tr>\n",
       "  </tbody>\n",
       "</table>\n",
       "</div>"
      ],
      "text/plain": [
       "          area        company  hourly_wage area1 area2  outlier  name\n",
       "13   영등포구 영등포동           gs25         6300  영등포구  영등포동        0  gs25\n",
       "107  영등포구 영등포동  세븐일레븐 영등포 2호점         6200  영등포구  영등포동        0  7/11"
      ]
     },
     "execution_count": 65,
     "metadata": {},
     "output_type": "execute_result"
    }
   ],
   "source": [
    "data[(data['area'].str.contains('영등포구'))&(data['hourly_wage']>6000)]"
   ]
  },
  {
   "cell_type": "code",
   "execution_count": 31,
   "metadata": {},
   "outputs": [],
   "source": [
    "##7. 영등포구에서 시간 당 급여가 6000원 이상인 편의점 검색"
   ]
  },
  {
   "cell_type": "code",
   "execution_count": 70,
   "metadata": {
    "scrolled": true
   },
   "outputs": [
    {
     "data": {
      "text/html": [
       "<div>\n",
       "<style scoped>\n",
       "    .dataframe tbody tr th:only-of-type {\n",
       "        vertical-align: middle;\n",
       "    }\n",
       "\n",
       "    .dataframe tbody tr th {\n",
       "        vertical-align: top;\n",
       "    }\n",
       "\n",
       "    .dataframe thead th {\n",
       "        text-align: right;\n",
       "    }\n",
       "</style>\n",
       "<table border=\"1\" class=\"dataframe\">\n",
       "  <thead>\n",
       "    <tr style=\"text-align: right;\">\n",
       "      <th></th>\n",
       "      <th>area</th>\n",
       "      <th>company</th>\n",
       "      <th>hourly_wage</th>\n",
       "      <th>area1</th>\n",
       "      <th>area2</th>\n",
       "      <th>outlier</th>\n",
       "      <th>name</th>\n",
       "    </tr>\n",
       "  </thead>\n",
       "  <tbody>\n",
       "    <tr>\n",
       "      <th>141</th>\n",
       "      <td>강남구 논현동</td>\n",
       "      <td>CU 논현힐탑점</td>\n",
       "      <td>5600</td>\n",
       "      <td>강남구</td>\n",
       "      <td>논현동</td>\n",
       "      <td>0</td>\n",
       "      <td>CU</td>\n",
       "    </tr>\n",
       "    <tr>\n",
       "      <th>142</th>\n",
       "      <td>강남구 논현동</td>\n",
       "      <td>CU논현한미점</td>\n",
       "      <td>6000</td>\n",
       "      <td>강남구</td>\n",
       "      <td>논현동</td>\n",
       "      <td>0</td>\n",
       "      <td>CU</td>\n",
       "    </tr>\n",
       "    <tr>\n",
       "      <th>143</th>\n",
       "      <td>강남구 신사동</td>\n",
       "      <td>CU 로데오점</td>\n",
       "      <td>6100</td>\n",
       "      <td>강남구</td>\n",
       "      <td>신사동</td>\n",
       "      <td>0</td>\n",
       "      <td>CU</td>\n",
       "    </tr>\n",
       "    <tr>\n",
       "      <th>144</th>\n",
       "      <td>강남구 대치4동</td>\n",
       "      <td>CU 대치본점</td>\n",
       "      <td>6000</td>\n",
       "      <td>강남구</td>\n",
       "      <td>대치4동</td>\n",
       "      <td>0</td>\n",
       "      <td>CU</td>\n",
       "    </tr>\n",
       "    <tr>\n",
       "      <th>145</th>\n",
       "      <td>강남구 논현1동</td>\n",
       "      <td>CUBE pc방</td>\n",
       "      <td>6500</td>\n",
       "      <td>강남구</td>\n",
       "      <td>논현1동</td>\n",
       "      <td>0</td>\n",
       "      <td>CU</td>\n",
       "    </tr>\n",
       "    <tr>\n",
       "      <th>146</th>\n",
       "      <td>강북구 수유3동</td>\n",
       "      <td>CU수유중앙점</td>\n",
       "      <td>5600</td>\n",
       "      <td>강북구</td>\n",
       "      <td>수유3동</td>\n",
       "      <td>0</td>\n",
       "      <td>CU</td>\n",
       "    </tr>\n",
       "    <tr>\n",
       "      <th>147</th>\n",
       "      <td>강서구 방화동</td>\n",
       "      <td>CU방화오피스점</td>\n",
       "      <td>6000</td>\n",
       "      <td>강서구</td>\n",
       "      <td>방화동</td>\n",
       "      <td>0</td>\n",
       "      <td>CU</td>\n",
       "    </tr>\n",
       "    <tr>\n",
       "      <th>148</th>\n",
       "      <td>관악구 신원동</td>\n",
       "      <td>CU신림인석점</td>\n",
       "      <td>5580</td>\n",
       "      <td>관악구</td>\n",
       "      <td>신원동</td>\n",
       "      <td>0</td>\n",
       "      <td>CU</td>\n",
       "    </tr>\n",
       "    <tr>\n",
       "      <th>149</th>\n",
       "      <td>관악구 봉천동</td>\n",
       "      <td>CU관악상상점</td>\n",
       "      <td>5580</td>\n",
       "      <td>관악구</td>\n",
       "      <td>봉천동</td>\n",
       "      <td>0</td>\n",
       "      <td>CU</td>\n",
       "    </tr>\n",
       "    <tr>\n",
       "      <th>150</th>\n",
       "      <td>구로구 구로동</td>\n",
       "      <td>CU편의점(고대구로병원1호점)</td>\n",
       "      <td>5580</td>\n",
       "      <td>구로구</td>\n",
       "      <td>구로동</td>\n",
       "      <td>0</td>\n",
       "      <td>CU</td>\n",
       "    </tr>\n",
       "  </tbody>\n",
       "</table>\n",
       "</div>"
      ],
      "text/plain": [
       "         area           company  hourly_wage area1 area2  outlier name\n",
       "141   강남구 논현동          CU 논현힐탑점         5600   강남구   논현동        0   CU\n",
       "142   강남구 논현동           CU논현한미점         6000   강남구   논현동        0   CU\n",
       "143   강남구 신사동           CU 로데오점         6100   강남구   신사동        0   CU\n",
       "144  강남구 대치4동           CU 대치본점         6000   강남구  대치4동        0   CU\n",
       "145  강남구 논현1동          CUBE pc방         6500   강남구  논현1동        0   CU\n",
       "146  강북구 수유3동           CU수유중앙점         5600   강북구  수유3동        0   CU\n",
       "147   강서구 방화동          CU방화오피스점         6000   강서구   방화동        0   CU\n",
       "148   관악구 신원동           CU신림인석점         5580   관악구   신원동        0   CU\n",
       "149   관악구 봉천동           CU관악상상점         5580   관악구   봉천동        0   CU\n",
       "150   구로구 구로동  CU편의점(고대구로병원1호점)         5580   구로구   구로동        0   CU"
      ]
     },
     "execution_count": 70,
     "metadata": {},
     "output_type": "execute_result"
    }
   ],
   "source": [
    "data[data['company'].str.contains('CU')].head(10)"
   ]
  },
  {
   "cell_type": "code",
   "execution_count": 32,
   "metadata": {},
   "outputs": [],
   "source": [
    "##8. CU 편이점만 출력 (상위 10개만)"
   ]
  },
  {
   "cell_type": "code",
   "execution_count": 71,
   "metadata": {},
   "outputs": [],
   "source": [
    "data['location'] = 'in Seoul'"
   ]
  },
  {
   "cell_type": "code",
   "execution_count": 72,
   "metadata": {},
   "outputs": [
    {
     "data": {
      "text/html": [
       "<div>\n",
       "<style scoped>\n",
       "    .dataframe tbody tr th:only-of-type {\n",
       "        vertical-align: middle;\n",
       "    }\n",
       "\n",
       "    .dataframe tbody tr th {\n",
       "        vertical-align: top;\n",
       "    }\n",
       "\n",
       "    .dataframe thead th {\n",
       "        text-align: right;\n",
       "    }\n",
       "</style>\n",
       "<table border=\"1\" class=\"dataframe\">\n",
       "  <thead>\n",
       "    <tr style=\"text-align: right;\">\n",
       "      <th></th>\n",
       "      <th>area</th>\n",
       "      <th>company</th>\n",
       "      <th>hourly_wage</th>\n",
       "      <th>area1</th>\n",
       "      <th>area2</th>\n",
       "      <th>outlier</th>\n",
       "      <th>name</th>\n",
       "      <th>location</th>\n",
       "    </tr>\n",
       "  </thead>\n",
       "  <tbody>\n",
       "    <tr>\n",
       "      <th>0</th>\n",
       "      <td>강남구 삼성동</td>\n",
       "      <td>gs25 오크우드점</td>\n",
       "      <td>5600</td>\n",
       "      <td>강남구</td>\n",
       "      <td>삼성동</td>\n",
       "      <td>0</td>\n",
       "      <td>gs25</td>\n",
       "      <td>in Seoul</td>\n",
       "    </tr>\n",
       "    <tr>\n",
       "      <th>1</th>\n",
       "      <td>강남구 삼성동</td>\n",
       "      <td>gs25 코엑스점</td>\n",
       "      <td>5700</td>\n",
       "      <td>강남구</td>\n",
       "      <td>삼성동</td>\n",
       "      <td>0</td>\n",
       "      <td>gs25</td>\n",
       "      <td>in Seoul</td>\n",
       "    </tr>\n",
       "    <tr>\n",
       "      <th>2</th>\n",
       "      <td>강서구 화곡동</td>\n",
       "      <td>gs25편의점</td>\n",
       "      <td>5600</td>\n",
       "      <td>강서구</td>\n",
       "      <td>화곡동</td>\n",
       "      <td>0</td>\n",
       "      <td>gs25</td>\n",
       "      <td>in Seoul</td>\n",
       "    </tr>\n",
       "    <tr>\n",
       "      <th>3</th>\n",
       "      <td>광진구 군자동</td>\n",
       "      <td>gs25</td>\n",
       "      <td>5580</td>\n",
       "      <td>광진구</td>\n",
       "      <td>군자동</td>\n",
       "      <td>0</td>\n",
       "      <td>gs25</td>\n",
       "      <td>in Seoul</td>\n",
       "    </tr>\n",
       "    <tr>\n",
       "      <th>4</th>\n",
       "      <td>광진구 중곡동</td>\n",
       "      <td>gs25중곡대원점</td>\n",
       "      <td>5580</td>\n",
       "      <td>광진구</td>\n",
       "      <td>중곡동</td>\n",
       "      <td>0</td>\n",
       "      <td>gs25</td>\n",
       "      <td>in Seoul</td>\n",
       "    </tr>\n",
       "  </tbody>\n",
       "</table>\n",
       "</div>"
      ],
      "text/plain": [
       "      area     company  hourly_wage area1 area2  outlier  name  location\n",
       "0  강남구 삼성동  gs25 오크우드점         5600   강남구   삼성동        0  gs25  in Seoul\n",
       "1  강남구 삼성동   gs25 코엑스점         5700   강남구   삼성동        0  gs25  in Seoul\n",
       "2  강서구 화곡동     gs25편의점         5600   강서구   화곡동        0  gs25  in Seoul\n",
       "3  광진구 군자동        gs25         5580   광진구   군자동        0  gs25  in Seoul\n",
       "4  광진구 중곡동   gs25중곡대원점         5580   광진구   중곡동        0  gs25  in Seoul"
      ]
     },
     "execution_count": 72,
     "metadata": {},
     "output_type": "execute_result"
    }
   ],
   "source": [
    "data.head(5)"
   ]
  },
  {
   "cell_type": "code",
   "execution_count": 33,
   "metadata": {},
   "outputs": [],
   "source": [
    "##9. 지역 컬럼(location)을 추가한 다음, in Seoul 이라는 값 저장, 상위 5개 출력"
   ]
  },
  {
   "cell_type": "code",
   "execution_count": 74,
   "metadata": {
    "scrolled": true
   },
   "outputs": [],
   "source": [
    "data['more_than_6000'] = data['hourly_wage'].apply(lambda x: x>6500)"
   ]
  },
  {
   "cell_type": "code",
   "execution_count": 75,
   "metadata": {},
   "outputs": [
    {
     "data": {
      "text/html": [
       "<div>\n",
       "<style scoped>\n",
       "    .dataframe tbody tr th:only-of-type {\n",
       "        vertical-align: middle;\n",
       "    }\n",
       "\n",
       "    .dataframe tbody tr th {\n",
       "        vertical-align: top;\n",
       "    }\n",
       "\n",
       "    .dataframe thead th {\n",
       "        text-align: right;\n",
       "    }\n",
       "</style>\n",
       "<table border=\"1\" class=\"dataframe\">\n",
       "  <thead>\n",
       "    <tr style=\"text-align: right;\">\n",
       "      <th></th>\n",
       "      <th>area</th>\n",
       "      <th>company</th>\n",
       "      <th>hourly_wage</th>\n",
       "      <th>area1</th>\n",
       "      <th>area2</th>\n",
       "      <th>outlier</th>\n",
       "      <th>name</th>\n",
       "      <th>location</th>\n",
       "      <th>more_than_6000</th>\n",
       "    </tr>\n",
       "  </thead>\n",
       "  <tbody>\n",
       "    <tr>\n",
       "      <th>0</th>\n",
       "      <td>강남구 삼성동</td>\n",
       "      <td>gs25 오크우드점</td>\n",
       "      <td>5600</td>\n",
       "      <td>강남구</td>\n",
       "      <td>삼성동</td>\n",
       "      <td>0</td>\n",
       "      <td>gs25</td>\n",
       "      <td>in Seoul</td>\n",
       "      <td>False</td>\n",
       "    </tr>\n",
       "    <tr>\n",
       "      <th>1</th>\n",
       "      <td>강남구 삼성동</td>\n",
       "      <td>gs25 코엑스점</td>\n",
       "      <td>5700</td>\n",
       "      <td>강남구</td>\n",
       "      <td>삼성동</td>\n",
       "      <td>0</td>\n",
       "      <td>gs25</td>\n",
       "      <td>in Seoul</td>\n",
       "      <td>False</td>\n",
       "    </tr>\n",
       "    <tr>\n",
       "      <th>2</th>\n",
       "      <td>강서구 화곡동</td>\n",
       "      <td>gs25편의점</td>\n",
       "      <td>5600</td>\n",
       "      <td>강서구</td>\n",
       "      <td>화곡동</td>\n",
       "      <td>0</td>\n",
       "      <td>gs25</td>\n",
       "      <td>in Seoul</td>\n",
       "      <td>False</td>\n",
       "    </tr>\n",
       "    <tr>\n",
       "      <th>3</th>\n",
       "      <td>광진구 군자동</td>\n",
       "      <td>gs25</td>\n",
       "      <td>5580</td>\n",
       "      <td>광진구</td>\n",
       "      <td>군자동</td>\n",
       "      <td>0</td>\n",
       "      <td>gs25</td>\n",
       "      <td>in Seoul</td>\n",
       "      <td>False</td>\n",
       "    </tr>\n",
       "    <tr>\n",
       "      <th>4</th>\n",
       "      <td>광진구 중곡동</td>\n",
       "      <td>gs25중곡대원점</td>\n",
       "      <td>5580</td>\n",
       "      <td>광진구</td>\n",
       "      <td>중곡동</td>\n",
       "      <td>0</td>\n",
       "      <td>gs25</td>\n",
       "      <td>in Seoul</td>\n",
       "      <td>False</td>\n",
       "    </tr>\n",
       "    <tr>\n",
       "      <th>5</th>\n",
       "      <td>구로구 구로동</td>\n",
       "      <td>gs25구로동양점</td>\n",
       "      <td>6000</td>\n",
       "      <td>구로구</td>\n",
       "      <td>구로동</td>\n",
       "      <td>0</td>\n",
       "      <td>gs25</td>\n",
       "      <td>in Seoul</td>\n",
       "      <td>False</td>\n",
       "    </tr>\n",
       "    <tr>\n",
       "      <th>6</th>\n",
       "      <td>구로구 구로동</td>\n",
       "      <td>gs25구로동양점</td>\n",
       "      <td>5580</td>\n",
       "      <td>구로구</td>\n",
       "      <td>구로동</td>\n",
       "      <td>0</td>\n",
       "      <td>gs25</td>\n",
       "      <td>in Seoul</td>\n",
       "      <td>False</td>\n",
       "    </tr>\n",
       "    <tr>\n",
       "      <th>7</th>\n",
       "      <td>동대문구 장안동</td>\n",
       "      <td>gs25장안중앙점</td>\n",
       "      <td>5600</td>\n",
       "      <td>동대문구</td>\n",
       "      <td>장안동</td>\n",
       "      <td>0</td>\n",
       "      <td>gs25</td>\n",
       "      <td>in Seoul</td>\n",
       "      <td>False</td>\n",
       "    </tr>\n",
       "    <tr>\n",
       "      <th>8</th>\n",
       "      <td>마포구 서교동</td>\n",
       "      <td>gs25 홍대아트점</td>\n",
       "      <td>5600</td>\n",
       "      <td>마포구</td>\n",
       "      <td>서교동</td>\n",
       "      <td>0</td>\n",
       "      <td>gs25</td>\n",
       "      <td>in Seoul</td>\n",
       "      <td>False</td>\n",
       "    </tr>\n",
       "    <tr>\n",
       "      <th>9</th>\n",
       "      <td>성동구 금호동4</td>\n",
       "      <td>gs25 서울숲푸르지오점</td>\n",
       "      <td>6000</td>\n",
       "      <td>성동구</td>\n",
       "      <td>금호동4</td>\n",
       "      <td>0</td>\n",
       "      <td>gs25</td>\n",
       "      <td>in Seoul</td>\n",
       "      <td>False</td>\n",
       "    </tr>\n",
       "    <tr>\n",
       "      <th>10</th>\n",
       "      <td>성북구 동소문동</td>\n",
       "      <td>gs25동소문본점</td>\n",
       "      <td>5580</td>\n",
       "      <td>성북구</td>\n",
       "      <td>동소문동</td>\n",
       "      <td>0</td>\n",
       "      <td>gs25</td>\n",
       "      <td>in Seoul</td>\n",
       "      <td>False</td>\n",
       "    </tr>\n",
       "    <tr>\n",
       "      <th>11</th>\n",
       "      <td>성북구 하월곡동</td>\n",
       "      <td>gs25 성북 푸르지오</td>\n",
       "      <td>5800</td>\n",
       "      <td>성북구</td>\n",
       "      <td>하월곡동</td>\n",
       "      <td>0</td>\n",
       "      <td>gs25</td>\n",
       "      <td>in Seoul</td>\n",
       "      <td>False</td>\n",
       "    </tr>\n",
       "    <tr>\n",
       "      <th>12</th>\n",
       "      <td>송파구 송파동</td>\n",
       "      <td>gs25송파중앙점</td>\n",
       "      <td>5600</td>\n",
       "      <td>송파구</td>\n",
       "      <td>송파동</td>\n",
       "      <td>0</td>\n",
       "      <td>gs25</td>\n",
       "      <td>in Seoul</td>\n",
       "      <td>False</td>\n",
       "    </tr>\n",
       "    <tr>\n",
       "      <th>13</th>\n",
       "      <td>영등포구 영등포동</td>\n",
       "      <td>gs25</td>\n",
       "      <td>6300</td>\n",
       "      <td>영등포구</td>\n",
       "      <td>영등포동</td>\n",
       "      <td>0</td>\n",
       "      <td>gs25</td>\n",
       "      <td>in Seoul</td>\n",
       "      <td>False</td>\n",
       "    </tr>\n",
       "    <tr>\n",
       "      <th>14</th>\n",
       "      <td>은평구 신사동</td>\n",
       "      <td>gs25</td>\n",
       "      <td>5580</td>\n",
       "      <td>은평구</td>\n",
       "      <td>신사동</td>\n",
       "      <td>0</td>\n",
       "      <td>gs25</td>\n",
       "      <td>in Seoul</td>\n",
       "      <td>False</td>\n",
       "    </tr>\n",
       "    <tr>\n",
       "      <th>15</th>\n",
       "      <td>종로구 관수동</td>\n",
       "      <td>gs25 국일관점</td>\n",
       "      <td>5600</td>\n",
       "      <td>종로구</td>\n",
       "      <td>관수동</td>\n",
       "      <td>0</td>\n",
       "      <td>gs25</td>\n",
       "      <td>in Seoul</td>\n",
       "      <td>False</td>\n",
       "    </tr>\n",
       "    <tr>\n",
       "      <th>16</th>\n",
       "      <td>중구 소공동</td>\n",
       "      <td>gs25</td>\n",
       "      <td>5600</td>\n",
       "      <td>중구</td>\n",
       "      <td>소공동</td>\n",
       "      <td>0</td>\n",
       "      <td>gs25</td>\n",
       "      <td>in Seoul</td>\n",
       "      <td>False</td>\n",
       "    </tr>\n",
       "    <tr>\n",
       "      <th>17</th>\n",
       "      <td>중구 신당동</td>\n",
       "      <td>gs25</td>\n",
       "      <td>5580</td>\n",
       "      <td>중구</td>\n",
       "      <td>신당동</td>\n",
       "      <td>0</td>\n",
       "      <td>gs25</td>\n",
       "      <td>in Seoul</td>\n",
       "      <td>False</td>\n",
       "    </tr>\n",
       "    <tr>\n",
       "      <th>18</th>\n",
       "      <td>강남구 논현동</td>\n",
       "      <td>세븐일레븐 논현11호점</td>\n",
       "      <td>6200</td>\n",
       "      <td>강남구</td>\n",
       "      <td>논현동</td>\n",
       "      <td>0</td>\n",
       "      <td>7/11</td>\n",
       "      <td>in Seoul</td>\n",
       "      <td>False</td>\n",
       "    </tr>\n",
       "    <tr>\n",
       "      <th>19</th>\n",
       "      <td>강남구 신사동</td>\n",
       "      <td>편의점/ 세븐일레븐 압구정 리갈펠리스점</td>\n",
       "      <td>5600</td>\n",
       "      <td>강남구</td>\n",
       "      <td>신사동</td>\n",
       "      <td>0</td>\n",
       "      <td>7/11</td>\n",
       "      <td>in Seoul</td>\n",
       "      <td>False</td>\n",
       "    </tr>\n",
       "  </tbody>\n",
       "</table>\n",
       "</div>"
      ],
      "text/plain": [
       "         area                company  hourly_wage area1 area2  outlier  name  \\\n",
       "0     강남구 삼성동             gs25 오크우드점         5600   강남구   삼성동        0  gs25   \n",
       "1     강남구 삼성동              gs25 코엑스점         5700   강남구   삼성동        0  gs25   \n",
       "2     강서구 화곡동                gs25편의점         5600   강서구   화곡동        0  gs25   \n",
       "3     광진구 군자동                   gs25         5580   광진구   군자동        0  gs25   \n",
       "4     광진구 중곡동              gs25중곡대원점         5580   광진구   중곡동        0  gs25   \n",
       "5     구로구 구로동              gs25구로동양점         6000   구로구   구로동        0  gs25   \n",
       "6     구로구 구로동              gs25구로동양점         5580   구로구   구로동        0  gs25   \n",
       "7    동대문구 장안동              gs25장안중앙점         5600  동대문구   장안동        0  gs25   \n",
       "8     마포구 서교동             gs25 홍대아트점         5600   마포구   서교동        0  gs25   \n",
       "9    성동구 금호동4          gs25 서울숲푸르지오점         6000   성동구  금호동4        0  gs25   \n",
       "10   성북구 동소문동              gs25동소문본점         5580   성북구  동소문동        0  gs25   \n",
       "11   성북구 하월곡동           gs25 성북 푸르지오         5800   성북구  하월곡동        0  gs25   \n",
       "12    송파구 송파동              gs25송파중앙점         5600   송파구   송파동        0  gs25   \n",
       "13  영등포구 영등포동                   gs25         6300  영등포구  영등포동        0  gs25   \n",
       "14    은평구 신사동                   gs25         5580   은평구   신사동        0  gs25   \n",
       "15    종로구 관수동              gs25 국일관점         5600   종로구   관수동        0  gs25   \n",
       "16     중구 소공동                   gs25         5600    중구   소공동        0  gs25   \n",
       "17     중구 신당동                   gs25         5580    중구   신당동        0  gs25   \n",
       "18    강남구 논현동           세븐일레븐 논현11호점         6200   강남구   논현동        0  7/11   \n",
       "19    강남구 신사동  편의점/ 세븐일레븐 압구정 리갈펠리스점         5600   강남구   신사동        0  7/11   \n",
       "\n",
       "    location  more_than_6000  \n",
       "0   in Seoul           False  \n",
       "1   in Seoul           False  \n",
       "2   in Seoul           False  \n",
       "3   in Seoul           False  \n",
       "4   in Seoul           False  \n",
       "5   in Seoul           False  \n",
       "6   in Seoul           False  \n",
       "7   in Seoul           False  \n",
       "8   in Seoul           False  \n",
       "9   in Seoul           False  \n",
       "10  in Seoul           False  \n",
       "11  in Seoul           False  \n",
       "12  in Seoul           False  \n",
       "13  in Seoul           False  \n",
       "14  in Seoul           False  \n",
       "15  in Seoul           False  \n",
       "16  in Seoul           False  \n",
       "17  in Seoul           False  \n",
       "18  in Seoul           False  \n",
       "19  in Seoul           False  "
      ]
     },
     "execution_count": 75,
     "metadata": {},
     "output_type": "execute_result"
    }
   ],
   "source": [
    "data.head(20)"
   ]
  },
  {
   "cell_type": "code",
   "execution_count": 34,
   "metadata": {},
   "outputs": [],
   "source": [
    "##10. 6000원 이상 컬럼 추가(more_than_6000) -> True, False 값 저장 (상위 20개 출력)"
   ]
  },
  {
   "cell_type": "code",
   "execution_count": 80,
   "metadata": {
    "scrolled": true
   },
   "outputs": [
    {
     "data": {
      "text/plain": [
       "count       6.000000\n",
       "mean     6965.000000\n",
       "std       428.660705\n",
       "min      6600.000000\n",
       "25%      6622.500000\n",
       "50%      6795.000000\n",
       "75%      7350.000000\n",
       "max      7500.000000\n",
       "Name: hourly_wage, dtype: float64"
      ]
     },
     "execution_count": 80,
     "metadata": {},
     "output_type": "execute_result"
    }
   ],
   "source": [
    "data[data['more_than_6000']==True]['hourly_wage'].describe()"
   ]
  },
  {
   "cell_type": "code",
   "execution_count": 35,
   "metadata": {},
   "outputs": [],
   "source": [
    "##11. more_than_6000 컬럼에서 True인 데이터들의 평균, 개수, 편차 등의 정보 출력"
   ]
  },
  {
   "cell_type": "code",
   "execution_count": 87,
   "metadata": {},
   "outputs": [],
   "source": [
    "def more_than_6000(x):\n",
    "    if x>= 6000:\n",
    "        return 'A group'\n",
    "    else:\n",
    "        return 'B group'"
   ]
  },
  {
   "cell_type": "code",
   "execution_count": 88,
   "metadata": {},
   "outputs": [],
   "source": [
    "##12. more_than_6000 이름의 함수를 생성하고, 6000원이상인 경우 A group, 아니면 B group을 반환하는 함수 생성"
   ]
  },
  {
   "cell_type": "code",
   "execution_count": 89,
   "metadata": {},
   "outputs": [],
   "source": [
    "data['more_than_6000'] = data['hourly_wage'].apply(lambda x: more_than_6000(x))"
   ]
  },
  {
   "cell_type": "code",
   "execution_count": 90,
   "metadata": {},
   "outputs": [],
   "source": [
    "##13. more_than_6000_f 컬럼 생성하고 more_than_6000 함수의 결과를 저장"
   ]
  },
  {
   "cell_type": "code",
   "execution_count": 91,
   "metadata": {},
   "outputs": [
    {
     "data": {
      "text/html": [
       "<div>\n",
       "<style scoped>\n",
       "    .dataframe tbody tr th:only-of-type {\n",
       "        vertical-align: middle;\n",
       "    }\n",
       "\n",
       "    .dataframe tbody tr th {\n",
       "        vertical-align: top;\n",
       "    }\n",
       "\n",
       "    .dataframe thead th {\n",
       "        text-align: right;\n",
       "    }\n",
       "</style>\n",
       "<table border=\"1\" class=\"dataframe\">\n",
       "  <thead>\n",
       "    <tr style=\"text-align: right;\">\n",
       "      <th></th>\n",
       "      <th>area</th>\n",
       "      <th>company</th>\n",
       "      <th>hourly_wage</th>\n",
       "      <th>area1</th>\n",
       "      <th>area2</th>\n",
       "      <th>outlier</th>\n",
       "      <th>name</th>\n",
       "      <th>location</th>\n",
       "      <th>more_than_6000</th>\n",
       "    </tr>\n",
       "  </thead>\n",
       "  <tbody>\n",
       "    <tr>\n",
       "      <th>0</th>\n",
       "      <td>강남구 삼성동</td>\n",
       "      <td>gs25 오크우드점</td>\n",
       "      <td>5600</td>\n",
       "      <td>강남구</td>\n",
       "      <td>삼성동</td>\n",
       "      <td>0</td>\n",
       "      <td>gs25</td>\n",
       "      <td>in Seoul</td>\n",
       "      <td>B group</td>\n",
       "    </tr>\n",
       "    <tr>\n",
       "      <th>1</th>\n",
       "      <td>강남구 삼성동</td>\n",
       "      <td>gs25 코엑스점</td>\n",
       "      <td>5700</td>\n",
       "      <td>강남구</td>\n",
       "      <td>삼성동</td>\n",
       "      <td>0</td>\n",
       "      <td>gs25</td>\n",
       "      <td>in Seoul</td>\n",
       "      <td>B group</td>\n",
       "    </tr>\n",
       "    <tr>\n",
       "      <th>2</th>\n",
       "      <td>강서구 화곡동</td>\n",
       "      <td>gs25편의점</td>\n",
       "      <td>5600</td>\n",
       "      <td>강서구</td>\n",
       "      <td>화곡동</td>\n",
       "      <td>0</td>\n",
       "      <td>gs25</td>\n",
       "      <td>in Seoul</td>\n",
       "      <td>B group</td>\n",
       "    </tr>\n",
       "    <tr>\n",
       "      <th>3</th>\n",
       "      <td>광진구 군자동</td>\n",
       "      <td>gs25</td>\n",
       "      <td>5580</td>\n",
       "      <td>광진구</td>\n",
       "      <td>군자동</td>\n",
       "      <td>0</td>\n",
       "      <td>gs25</td>\n",
       "      <td>in Seoul</td>\n",
       "      <td>B group</td>\n",
       "    </tr>\n",
       "    <tr>\n",
       "      <th>4</th>\n",
       "      <td>광진구 중곡동</td>\n",
       "      <td>gs25중곡대원점</td>\n",
       "      <td>5580</td>\n",
       "      <td>광진구</td>\n",
       "      <td>중곡동</td>\n",
       "      <td>0</td>\n",
       "      <td>gs25</td>\n",
       "      <td>in Seoul</td>\n",
       "      <td>B group</td>\n",
       "    </tr>\n",
       "    <tr>\n",
       "      <th>5</th>\n",
       "      <td>구로구 구로동</td>\n",
       "      <td>gs25구로동양점</td>\n",
       "      <td>6000</td>\n",
       "      <td>구로구</td>\n",
       "      <td>구로동</td>\n",
       "      <td>0</td>\n",
       "      <td>gs25</td>\n",
       "      <td>in Seoul</td>\n",
       "      <td>A group</td>\n",
       "    </tr>\n",
       "    <tr>\n",
       "      <th>6</th>\n",
       "      <td>구로구 구로동</td>\n",
       "      <td>gs25구로동양점</td>\n",
       "      <td>5580</td>\n",
       "      <td>구로구</td>\n",
       "      <td>구로동</td>\n",
       "      <td>0</td>\n",
       "      <td>gs25</td>\n",
       "      <td>in Seoul</td>\n",
       "      <td>B group</td>\n",
       "    </tr>\n",
       "    <tr>\n",
       "      <th>7</th>\n",
       "      <td>동대문구 장안동</td>\n",
       "      <td>gs25장안중앙점</td>\n",
       "      <td>5600</td>\n",
       "      <td>동대문구</td>\n",
       "      <td>장안동</td>\n",
       "      <td>0</td>\n",
       "      <td>gs25</td>\n",
       "      <td>in Seoul</td>\n",
       "      <td>B group</td>\n",
       "    </tr>\n",
       "    <tr>\n",
       "      <th>8</th>\n",
       "      <td>마포구 서교동</td>\n",
       "      <td>gs25 홍대아트점</td>\n",
       "      <td>5600</td>\n",
       "      <td>마포구</td>\n",
       "      <td>서교동</td>\n",
       "      <td>0</td>\n",
       "      <td>gs25</td>\n",
       "      <td>in Seoul</td>\n",
       "      <td>B group</td>\n",
       "    </tr>\n",
       "    <tr>\n",
       "      <th>9</th>\n",
       "      <td>성동구 금호동4</td>\n",
       "      <td>gs25 서울숲푸르지오점</td>\n",
       "      <td>6000</td>\n",
       "      <td>성동구</td>\n",
       "      <td>금호동4</td>\n",
       "      <td>0</td>\n",
       "      <td>gs25</td>\n",
       "      <td>in Seoul</td>\n",
       "      <td>A group</td>\n",
       "    </tr>\n",
       "  </tbody>\n",
       "</table>\n",
       "</div>"
      ],
      "text/plain": [
       "       area        company  hourly_wage area1 area2  outlier  name  location  \\\n",
       "0   강남구 삼성동     gs25 오크우드점         5600   강남구   삼성동        0  gs25  in Seoul   \n",
       "1   강남구 삼성동      gs25 코엑스점         5700   강남구   삼성동        0  gs25  in Seoul   \n",
       "2   강서구 화곡동        gs25편의점         5600   강서구   화곡동        0  gs25  in Seoul   \n",
       "3   광진구 군자동           gs25         5580   광진구   군자동        0  gs25  in Seoul   \n",
       "4   광진구 중곡동      gs25중곡대원점         5580   광진구   중곡동        0  gs25  in Seoul   \n",
       "5   구로구 구로동      gs25구로동양점         6000   구로구   구로동        0  gs25  in Seoul   \n",
       "6   구로구 구로동      gs25구로동양점         5580   구로구   구로동        0  gs25  in Seoul   \n",
       "7  동대문구 장안동      gs25장안중앙점         5600  동대문구   장안동        0  gs25  in Seoul   \n",
       "8   마포구 서교동     gs25 홍대아트점         5600   마포구   서교동        0  gs25  in Seoul   \n",
       "9  성동구 금호동4  gs25 서울숲푸르지오점         6000   성동구  금호동4        0  gs25  in Seoul   \n",
       "\n",
       "  more_than_6000  \n",
       "0        B group  \n",
       "1        B group  \n",
       "2        B group  \n",
       "3        B group  \n",
       "4        B group  \n",
       "5        A group  \n",
       "6        B group  \n",
       "7        B group  \n",
       "8        B group  \n",
       "9        A group  "
      ]
     },
     "execution_count": 91,
     "metadata": {},
     "output_type": "execute_result"
    }
   ],
   "source": [
    "data.head(10)"
   ]
  },
  {
   "cell_type": "code",
   "execution_count": 38,
   "metadata": {},
   "outputs": [],
   "source": [
    "##14. 지금까지의 결과 상위 10개를 출력"
   ]
  },
  {
   "cell_type": "code",
   "execution_count": 130,
   "metadata": {},
   "outputs": [
    {
     "data": {
      "text/plain": [
       "Index(['area', 'company', 'hourly_wage', 'area1', 'area2', 'outlier', 'name',\n",
       "       'location', 'more_than_6000'],\n",
       "      dtype='object')"
      ]
     },
     "execution_count": 130,
     "metadata": {},
     "output_type": "execute_result"
    }
   ],
   "source": [
    "data.columns"
   ]
  },
  {
   "cell_type": "code",
   "execution_count": 133,
   "metadata": {},
   "outputs": [],
   "source": [
    "data2 = data[data['more_than_6000']=='A group'][['area1','hourly_wage']]"
   ]
  },
  {
   "cell_type": "code",
   "execution_count": 134,
   "metadata": {},
   "outputs": [
    {
     "data": {
      "text/html": [
       "<div>\n",
       "<style scoped>\n",
       "    .dataframe tbody tr th:only-of-type {\n",
       "        vertical-align: middle;\n",
       "    }\n",
       "\n",
       "    .dataframe tbody tr th {\n",
       "        vertical-align: top;\n",
       "    }\n",
       "\n",
       "    .dataframe thead th {\n",
       "        text-align: right;\n",
       "    }\n",
       "</style>\n",
       "<table border=\"1\" class=\"dataframe\">\n",
       "  <thead>\n",
       "    <tr style=\"text-align: right;\">\n",
       "      <th></th>\n",
       "      <th>area1</th>\n",
       "      <th>hourly_wage</th>\n",
       "    </tr>\n",
       "  </thead>\n",
       "  <tbody>\n",
       "    <tr>\n",
       "      <th>173</th>\n",
       "      <td>용산구</td>\n",
       "      <td>7500</td>\n",
       "    </tr>\n",
       "    <tr>\n",
       "      <th>29</th>\n",
       "      <td>강남구</td>\n",
       "      <td>7500</td>\n",
       "    </tr>\n",
       "    <tr>\n",
       "      <th>160</th>\n",
       "      <td>서대문구</td>\n",
       "      <td>6900</td>\n",
       "    </tr>\n",
       "    <tr>\n",
       "      <th>135</th>\n",
       "      <td>중구</td>\n",
       "      <td>6690</td>\n",
       "    </tr>\n",
       "    <tr>\n",
       "      <th>172</th>\n",
       "      <td>용산구</td>\n",
       "      <td>6600</td>\n",
       "    </tr>\n",
       "    <tr>\n",
       "      <th>37</th>\n",
       "      <td>강서구</td>\n",
       "      <td>6600</td>\n",
       "    </tr>\n",
       "    <tr>\n",
       "      <th>161</th>\n",
       "      <td>서대문구</td>\n",
       "      <td>6500</td>\n",
       "    </tr>\n",
       "    <tr>\n",
       "      <th>89</th>\n",
       "      <td>성동구</td>\n",
       "      <td>6500</td>\n",
       "    </tr>\n",
       "    <tr>\n",
       "      <th>72</th>\n",
       "      <td>마포구</td>\n",
       "      <td>6500</td>\n",
       "    </tr>\n",
       "    <tr>\n",
       "      <th>30</th>\n",
       "      <td>강남구</td>\n",
       "      <td>6500</td>\n",
       "    </tr>\n",
       "    <tr>\n",
       "      <th>137</th>\n",
       "      <td>중구</td>\n",
       "      <td>6500</td>\n",
       "    </tr>\n",
       "    <tr>\n",
       "      <th>53</th>\n",
       "      <td>구로구</td>\n",
       "      <td>6500</td>\n",
       "    </tr>\n",
       "    <tr>\n",
       "      <th>145</th>\n",
       "      <td>강남구</td>\n",
       "      <td>6500</td>\n",
       "    </tr>\n",
       "    <tr>\n",
       "      <th>60</th>\n",
       "      <td>도봉구</td>\n",
       "      <td>6500</td>\n",
       "    </tr>\n",
       "    <tr>\n",
       "      <th>128</th>\n",
       "      <td>종로구</td>\n",
       "      <td>6480</td>\n",
       "    </tr>\n",
       "    <tr>\n",
       "      <th>121</th>\n",
       "      <td>종로구</td>\n",
       "      <td>6480</td>\n",
       "    </tr>\n",
       "    <tr>\n",
       "      <th>133</th>\n",
       "      <td>중구</td>\n",
       "      <td>6300</td>\n",
       "    </tr>\n",
       "    <tr>\n",
       "      <th>61</th>\n",
       "      <td>동대문구</td>\n",
       "      <td>6300</td>\n",
       "    </tr>\n",
       "    <tr>\n",
       "      <th>13</th>\n",
       "      <td>영등포구</td>\n",
       "      <td>6300</td>\n",
       "    </tr>\n",
       "    <tr>\n",
       "      <th>152</th>\n",
       "      <td>금천구</td>\n",
       "      <td>6300</td>\n",
       "    </tr>\n",
       "    <tr>\n",
       "      <th>151</th>\n",
       "      <td>금천구</td>\n",
       "      <td>6300</td>\n",
       "    </tr>\n",
       "    <tr>\n",
       "      <th>18</th>\n",
       "      <td>강남구</td>\n",
       "      <td>6200</td>\n",
       "    </tr>\n",
       "    <tr>\n",
       "      <th>107</th>\n",
       "      <td>영등포구</td>\n",
       "      <td>6200</td>\n",
       "    </tr>\n",
       "    <tr>\n",
       "      <th>56</th>\n",
       "      <td>구로구</td>\n",
       "      <td>6200</td>\n",
       "    </tr>\n",
       "    <tr>\n",
       "      <th>143</th>\n",
       "      <td>강남구</td>\n",
       "      <td>6100</td>\n",
       "    </tr>\n",
       "    <tr>\n",
       "      <th>147</th>\n",
       "      <td>강서구</td>\n",
       "      <td>6000</td>\n",
       "    </tr>\n",
       "    <tr>\n",
       "      <th>142</th>\n",
       "      <td>강남구</td>\n",
       "      <td>6000</td>\n",
       "    </tr>\n",
       "    <tr>\n",
       "      <th>144</th>\n",
       "      <td>강남구</td>\n",
       "      <td>6000</td>\n",
       "    </tr>\n",
       "    <tr>\n",
       "      <th>162</th>\n",
       "      <td>서대문구</td>\n",
       "      <td>6000</td>\n",
       "    </tr>\n",
       "    <tr>\n",
       "      <th>164</th>\n",
       "      <td>서초구</td>\n",
       "      <td>6000</td>\n",
       "    </tr>\n",
       "    <tr>\n",
       "      <th>166</th>\n",
       "      <td>성동구</td>\n",
       "      <td>6000</td>\n",
       "    </tr>\n",
       "    <tr>\n",
       "      <th>5</th>\n",
       "      <td>구로구</td>\n",
       "      <td>6000</td>\n",
       "    </tr>\n",
       "    <tr>\n",
       "      <th>113</th>\n",
       "      <td>용산구</td>\n",
       "      <td>6000</td>\n",
       "    </tr>\n",
       "    <tr>\n",
       "      <th>138</th>\n",
       "      <td>중구</td>\n",
       "      <td>6000</td>\n",
       "    </tr>\n",
       "    <tr>\n",
       "      <th>132</th>\n",
       "      <td>중구</td>\n",
       "      <td>6000</td>\n",
       "    </tr>\n",
       "    <tr>\n",
       "      <th>118</th>\n",
       "      <td>은평구</td>\n",
       "      <td>6000</td>\n",
       "    </tr>\n",
       "    <tr>\n",
       "      <th>9</th>\n",
       "      <td>성동구</td>\n",
       "      <td>6000</td>\n",
       "    </tr>\n",
       "    <tr>\n",
       "      <th>106</th>\n",
       "      <td>영등포구</td>\n",
       "      <td>6000</td>\n",
       "    </tr>\n",
       "    <tr>\n",
       "      <th>95</th>\n",
       "      <td>송파구</td>\n",
       "      <td>6000</td>\n",
       "    </tr>\n",
       "    <tr>\n",
       "      <th>68</th>\n",
       "      <td>마포구</td>\n",
       "      <td>6000</td>\n",
       "    </tr>\n",
       "    <tr>\n",
       "      <th>66</th>\n",
       "      <td>마포구</td>\n",
       "      <td>6000</td>\n",
       "    </tr>\n",
       "    <tr>\n",
       "      <th>63</th>\n",
       "      <td>동대문구</td>\n",
       "      <td>6000</td>\n",
       "    </tr>\n",
       "    <tr>\n",
       "      <th>43</th>\n",
       "      <td>관악구</td>\n",
       "      <td>6000</td>\n",
       "    </tr>\n",
       "    <tr>\n",
       "      <th>39</th>\n",
       "      <td>강서구</td>\n",
       "      <td>6000</td>\n",
       "    </tr>\n",
       "    <tr>\n",
       "      <th>32</th>\n",
       "      <td>강동구</td>\n",
       "      <td>6000</td>\n",
       "    </tr>\n",
       "    <tr>\n",
       "      <th>27</th>\n",
       "      <td>강남구</td>\n",
       "      <td>6000</td>\n",
       "    </tr>\n",
       "    <tr>\n",
       "      <th>175</th>\n",
       "      <td>은평구</td>\n",
       "      <td>6000</td>\n",
       "    </tr>\n",
       "  </tbody>\n",
       "</table>\n",
       "</div>"
      ],
      "text/plain": [
       "    area1  hourly_wage\n",
       "173   용산구         7500\n",
       "29    강남구         7500\n",
       "160  서대문구         6900\n",
       "135    중구         6690\n",
       "172   용산구         6600\n",
       "37    강서구         6600\n",
       "161  서대문구         6500\n",
       "89    성동구         6500\n",
       "72    마포구         6500\n",
       "30    강남구         6500\n",
       "137    중구         6500\n",
       "53    구로구         6500\n",
       "145   강남구         6500\n",
       "60    도봉구         6500\n",
       "128   종로구         6480\n",
       "121   종로구         6480\n",
       "133    중구         6300\n",
       "61   동대문구         6300\n",
       "13   영등포구         6300\n",
       "152   금천구         6300\n",
       "151   금천구         6300\n",
       "18    강남구         6200\n",
       "107  영등포구         6200\n",
       "56    구로구         6200\n",
       "143   강남구         6100\n",
       "147   강서구         6000\n",
       "142   강남구         6000\n",
       "144   강남구         6000\n",
       "162  서대문구         6000\n",
       "164   서초구         6000\n",
       "166   성동구         6000\n",
       "5     구로구         6000\n",
       "113   용산구         6000\n",
       "138    중구         6000\n",
       "132    중구         6000\n",
       "118   은평구         6000\n",
       "9     성동구         6000\n",
       "106  영등포구         6000\n",
       "95    송파구         6000\n",
       "68    마포구         6000\n",
       "66    마포구         6000\n",
       "63   동대문구         6000\n",
       "43    관악구         6000\n",
       "39    강서구         6000\n",
       "32    강동구         6000\n",
       "27    강남구         6000\n",
       "175   은평구         6000"
      ]
     },
     "execution_count": 134,
     "metadata": {},
     "output_type": "execute_result"
    }
   ],
   "source": [
    "data2.sort_values(ascending=False, by='hourly_wage')"
   ]
  },
  {
   "cell_type": "code",
   "execution_count": 39,
   "metadata": {},
   "outputs": [],
   "source": [
    "##15-1. more_than_6000가 True인 데이터의 지역과 시간당 급여를 가진 새로운 데이터프레임 생성(data2)\n",
    "##15-2. data2 데이터를 시간당 급여 순으로 정렬 (높은순)"
   ]
  },
  {
   "cell_type": "code",
   "execution_count": 135,
   "metadata": {},
   "outputs": [],
   "source": [
    "data2.to_csv('darta2.csv')"
   ]
  },
  {
   "cell_type": "code",
   "execution_count": 40,
   "metadata": {},
   "outputs": [],
   "source": [
    "##16. data2를 darta2.csv 파일로 저장"
   ]
  },
  {
   "cell_type": "code",
   "execution_count": 140,
   "metadata": {},
   "outputs": [
    {
     "data": {
      "text/plain": [
       "(array([120.,  10.,  23.,   8.,  10.,   3.,   1.,   0.,   0.,   2.]),\n",
       " array([5580., 5772., 5964., 6156., 6348., 6540., 6732., 6924., 7116.,\n",
       "        7308., 7500.]),\n",
       " <a list of 10 Patch objects>)"
      ]
     },
     "execution_count": 140,
     "metadata": {},
     "output_type": "execute_result"
    },
    {
     "data": {
      "image/png": "[encoded data removed]",
      "text/plain": [
       "<Figure size 432x288 with 1 Axes>"
      ]
     },
     "metadata": {
      "needs_background": "light"
     },
     "output_type": "display_data"
    }
   ],
   "source": [
    "plt.hist(data['hourly_wage'],bins=10)"
   ]
  },
  {
   "cell_type": "code",
   "execution_count": 41,
   "metadata": {},
   "outputs": [],
   "source": [
    "##17. 시간당 급여를 histogram 으로 표시 (matplotlib hist() 사용)"
   ]
  },
  {
   "cell_type": "code",
   "execution_count": 144,
   "metadata": {},
   "outputs": [
    {
     "data": {
      "text/plain": [
       "<matplotlib.axes._subplots.AxesSubplot at 0x11b827cd828>"
      ]
     },
     "execution_count": 144,
     "metadata": {},
     "output_type": "execute_result"
    },
    {
     "data": {
      "image/png": "[encoded data removed]",
      "text/plain": [
       "<Figure size 432x288 with 1 Axes>"
      ]
     },
     "metadata": {
      "needs_background": "light"
     },
     "output_type": "display_data"
    }
   ],
   "source": [
    "data.boxplot(column='hourly_wage')"
   ]
  },
  {
   "cell_type": "code",
   "execution_count": 42,
   "metadata": {},
   "outputs": [],
   "source": [
    "##18. 시간당 급여를 box 차트로 표시 "
   ]
  },
  {
   "cell_type": "code",
   "execution_count": 145,
   "metadata": {},
   "outputs": [
    {
     "data": {
      "text/plain": [
       "<matplotlib.axes._subplots.AxesSubplot at 0x11b82832d68>"
      ]
     },
     "execution_count": 145,
     "metadata": {},
     "output_type": "execute_result"
    },
    {
     "data": {
      "image/png": "[encoded data removed]",
      "text/plain": [
       "<Figure size 432x288 with 1 Axes>"
      ]
     },
     "metadata": {
      "needs_background": "light"
     },
     "output_type": "display_data"
    }
   ],
   "source": [
    "data.boxplot(column='hourly_wage', by ='name')"
   ]
  },
  {
   "cell_type": "code",
   "execution_count": 43,
   "metadata": {},
   "outputs": [],
   "source": [
    "##19. 시간당 급여를 box 차트로 표시(이름순으로)"
   ]
  },
  {
   "cell_type": "code",
   "execution_count": 147,
   "metadata": {},
   "outputs": [
    {
     "data": {
      "text/plain": [
       "<matplotlib.axes._subplots.AxesSubplot at 0x11b830af978>"
      ]
     },
     "execution_count": 147,
     "metadata": {},
     "output_type": "execute_result"
    },
    {
     "name": "stderr",
     "output_type": "stream",
     "text": [
      "C:\\Users\\user\\Anaconda3\\lib\\site-packages\\matplotlib\\backends\\backend_agg.py:214: RuntimeWarning: Glyph 44053 missing from current font.\n",
      "  font.set_text(s, 0.0, flags=flags)\n",
      "C:\\Users\\user\\Anaconda3\\lib\\site-packages\\matplotlib\\backends\\backend_agg.py:214: RuntimeWarning: Glyph 45224 missing from current font.\n",
      "  font.set_text(s, 0.0, flags=flags)\n",
      "C:\\Users\\user\\Anaconda3\\lib\\site-packages\\matplotlib\\backends\\backend_agg.py:214: RuntimeWarning: Glyph 44396 missing from current font.\n",
      "  font.set_text(s, 0.0, flags=flags)\n",
      "C:\\Users\\user\\Anaconda3\\lib\\site-packages\\matplotlib\\backends\\backend_agg.py:214: RuntimeWarning: Glyph 46041 missing from current font.\n",
      "  font.set_text(s, 0.0, flags=flags)\n",
      "C:\\Users\\user\\Anaconda3\\lib\\site-packages\\matplotlib\\backends\\backend_agg.py:214: RuntimeWarning: Glyph 48513 missing from current font.\n",
      "  font.set_text(s, 0.0, flags=flags)\n",
      "C:\\Users\\user\\Anaconda3\\lib\\site-packages\\matplotlib\\backends\\backend_agg.py:214: RuntimeWarning: Glyph 49436 missing from current font.\n",
      "  font.set_text(s, 0.0, flags=flags)\n",
      "C:\\Users\\user\\Anaconda3\\lib\\site-packages\\matplotlib\\backends\\backend_agg.py:214: RuntimeWarning: Glyph 44288 missing from current font.\n",
      "  font.set_text(s, 0.0, flags=flags)\n",
      "C:\\Users\\user\\Anaconda3\\lib\\site-packages\\matplotlib\\backends\\backend_agg.py:214: RuntimeWarning: Glyph 50501 missing from current font.\n",
      "  font.set_text(s, 0.0, flags=flags)\n",
      "C:\\Users\\user\\Anaconda3\\lib\\site-packages\\matplotlib\\backends\\backend_agg.py:214: RuntimeWarning: Glyph 44305 missing from current font.\n",
      "  font.set_text(s, 0.0, flags=flags)\n",
      "C:\\Users\\user\\Anaconda3\\lib\\site-packages\\matplotlib\\backends\\backend_agg.py:214: RuntimeWarning: Glyph 51652 missing from current font.\n",
      "  font.set_text(s, 0.0, flags=flags)\n",
      "C:\\Users\\user\\Anaconda3\\lib\\site-packages\\matplotlib\\backends\\backend_agg.py:214: RuntimeWarning: Glyph 47196 missing from current font.\n",
      "  font.set_text(s, 0.0, flags=flags)\n",
      "C:\\Users\\user\\Anaconda3\\lib\\site-packages\\matplotlib\\backends\\backend_agg.py:214: RuntimeWarning: Glyph 44552 missing from current font.\n",
      "  font.set_text(s, 0.0, flags=flags)\n",
      "C:\\Users\\user\\Anaconda3\\lib\\site-packages\\matplotlib\\backends\\backend_agg.py:214: RuntimeWarning: Glyph 52380 missing from current font.\n",
      "  font.set_text(s, 0.0, flags=flags)\n",
      "C:\\Users\\user\\Anaconda3\\lib\\site-packages\\matplotlib\\backends\\backend_agg.py:214: RuntimeWarning: Glyph 45432 missing from current font.\n",
      "  font.set_text(s, 0.0, flags=flags)\n",
      "C:\\Users\\user\\Anaconda3\\lib\\site-packages\\matplotlib\\backends\\backend_agg.py:214: RuntimeWarning: Glyph 50896 missing from current font.\n",
      "  font.set_text(s, 0.0, flags=flags)\n",
      "C:\\Users\\user\\Anaconda3\\lib\\site-packages\\matplotlib\\backends\\backend_agg.py:214: RuntimeWarning: Glyph 46020 missing from current font.\n",
      "  font.set_text(s, 0.0, flags=flags)\n",
      "C:\\Users\\user\\Anaconda3\\lib\\site-packages\\matplotlib\\backends\\backend_agg.py:214: RuntimeWarning: Glyph 48393 missing from current font.\n",
      "  font.set_text(s, 0.0, flags=flags)\n",
      "C:\\Users\\user\\Anaconda3\\lib\\site-packages\\matplotlib\\backends\\backend_agg.py:214: RuntimeWarning: Glyph 45824 missing from current font.\n",
      "  font.set_text(s, 0.0, flags=flags)\n",
      "C:\\Users\\user\\Anaconda3\\lib\\site-packages\\matplotlib\\backends\\backend_agg.py:214: RuntimeWarning: Glyph 47928 missing from current font.\n",
      "  font.set_text(s, 0.0, flags=flags)\n",
      "C:\\Users\\user\\Anaconda3\\lib\\site-packages\\matplotlib\\backends\\backend_agg.py:214: RuntimeWarning: Glyph 51089 missing from current font.\n",
      "  font.set_text(s, 0.0, flags=flags)\n",
      "C:\\Users\\user\\Anaconda3\\lib\\site-packages\\matplotlib\\backends\\backend_agg.py:214: RuntimeWarning: Glyph 47560 missing from current font.\n",
      "  font.set_text(s, 0.0, flags=flags)\n",
      "C:\\Users\\user\\Anaconda3\\lib\\site-packages\\matplotlib\\backends\\backend_agg.py:214: RuntimeWarning: Glyph 54252 missing from current font.\n",
      "  font.set_text(s, 0.0, flags=flags)\n",
      "C:\\Users\\user\\Anaconda3\\lib\\site-packages\\matplotlib\\backends\\backend_agg.py:214: RuntimeWarning: Glyph 52488 missing from current font.\n",
      "  font.set_text(s, 0.0, flags=flags)\n",
      "C:\\Users\\user\\Anaconda3\\lib\\site-packages\\matplotlib\\backends\\backend_agg.py:214: RuntimeWarning: Glyph 49457 missing from current font.\n",
      "  font.set_text(s, 0.0, flags=flags)\n",
      "C:\\Users\\user\\Anaconda3\\lib\\site-packages\\matplotlib\\backends\\backend_agg.py:214: RuntimeWarning: Glyph 49569 missing from current font.\n",
      "  font.set_text(s, 0.0, flags=flags)\n",
      "C:\\Users\\user\\Anaconda3\\lib\\site-packages\\matplotlib\\backends\\backend_agg.py:214: RuntimeWarning: Glyph 54028 missing from current font.\n",
      "  font.set_text(s, 0.0, flags=flags)\n",
      "C:\\Users\\user\\Anaconda3\\lib\\site-packages\\matplotlib\\backends\\backend_agg.py:214: RuntimeWarning: Glyph 50577 missing from current font.\n",
      "  font.set_text(s, 0.0, flags=flags)\n",
      "C:\\Users\\user\\Anaconda3\\lib\\site-packages\\matplotlib\\backends\\backend_agg.py:214: RuntimeWarning: Glyph 50689 missing from current font.\n",
      "  font.set_text(s, 0.0, flags=flags)\n",
      "C:\\Users\\user\\Anaconda3\\lib\\site-packages\\matplotlib\\backends\\backend_agg.py:214: RuntimeWarning: Glyph 46321 missing from current font.\n",
      "  font.set_text(s, 0.0, flags=flags)\n",
      "C:\\Users\\user\\Anaconda3\\lib\\site-packages\\matplotlib\\backends\\backend_agg.py:214: RuntimeWarning: Glyph 50857 missing from current font.\n",
      "  font.set_text(s, 0.0, flags=flags)\n",
      "C:\\Users\\user\\Anaconda3\\lib\\site-packages\\matplotlib\\backends\\backend_agg.py:214: RuntimeWarning: Glyph 49328 missing from current font.\n",
      "  font.set_text(s, 0.0, flags=flags)\n",
      "C:\\Users\\user\\Anaconda3\\lib\\site-packages\\matplotlib\\backends\\backend_agg.py:214: RuntimeWarning: Glyph 51008 missing from current font.\n",
      "  font.set_text(s, 0.0, flags=flags)\n",
      "C:\\Users\\user\\Anaconda3\\lib\\site-packages\\matplotlib\\backends\\backend_agg.py:214: RuntimeWarning: Glyph 54217 missing from current font.\n",
      "  font.set_text(s, 0.0, flags=flags)\n",
      "C:\\Users\\user\\Anaconda3\\lib\\site-packages\\matplotlib\\backends\\backend_agg.py:214: RuntimeWarning: Glyph 51333 missing from current font.\n",
      "  font.set_text(s, 0.0, flags=flags)\n",
      "C:\\Users\\user\\Anaconda3\\lib\\site-packages\\matplotlib\\backends\\backend_agg.py:214: RuntimeWarning: Glyph 51473 missing from current font.\n",
      "  font.set_text(s, 0.0, flags=flags)\n",
      "C:\\Users\\user\\Anaconda3\\lib\\site-packages\\matplotlib\\backends\\backend_agg.py:214: RuntimeWarning: Glyph 46993 missing from current font.\n",
      "  font.set_text(s, 0.0, flags=flags)\n",
      "C:\\Users\\user\\Anaconda3\\lib\\site-packages\\matplotlib\\backends\\backend_agg.py:183: RuntimeWarning: Glyph 44053 missing from current font.\n",
      "  font.set_text(s, 0, flags=flags)\n",
      "C:\\Users\\user\\Anaconda3\\lib\\site-packages\\matplotlib\\backends\\backend_agg.py:183: RuntimeWarning: Glyph 45224 missing from current font.\n",
      "  font.set_text(s, 0, flags=flags)\n",
      "C:\\Users\\user\\Anaconda3\\lib\\site-packages\\matplotlib\\backends\\backend_agg.py:183: RuntimeWarning: Glyph 44396 missing from current font.\n",
      "  font.set_text(s, 0, flags=flags)\n",
      "C:\\Users\\user\\Anaconda3\\lib\\site-packages\\matplotlib\\backends\\backend_agg.py:183: RuntimeWarning: Glyph 46041 missing from current font.\n",
      "  font.set_text(s, 0, flags=flags)\n",
      "C:\\Users\\user\\Anaconda3\\lib\\site-packages\\matplotlib\\backends\\backend_agg.py:183: RuntimeWarning: Glyph 48513 missing from current font.\n",
      "  font.set_text(s, 0, flags=flags)\n",
      "C:\\Users\\user\\Anaconda3\\lib\\site-packages\\matplotlib\\backends\\backend_agg.py:183: RuntimeWarning: Glyph 49436 missing from current font.\n",
      "  font.set_text(s, 0, flags=flags)\n",
      "C:\\Users\\user\\Anaconda3\\lib\\site-packages\\matplotlib\\backends\\backend_agg.py:183: RuntimeWarning: Glyph 44288 missing from current font.\n",
      "  font.set_text(s, 0, flags=flags)\n",
      "C:\\Users\\user\\Anaconda3\\lib\\site-packages\\matplotlib\\backends\\backend_agg.py:183: RuntimeWarning: Glyph 50501 missing from current font.\n",
      "  font.set_text(s, 0, flags=flags)\n",
      "C:\\Users\\user\\Anaconda3\\lib\\site-packages\\matplotlib\\backends\\backend_agg.py:183: RuntimeWarning: Glyph 44305 missing from current font.\n",
      "  font.set_text(s, 0, flags=flags)\n",
      "C:\\Users\\user\\Anaconda3\\lib\\site-packages\\matplotlib\\backends\\backend_agg.py:183: RuntimeWarning: Glyph 51652 missing from current font.\n",
      "  font.set_text(s, 0, flags=flags)\n",
      "C:\\Users\\user\\Anaconda3\\lib\\site-packages\\matplotlib\\backends\\backend_agg.py:183: RuntimeWarning: Glyph 47196 missing from current font.\n",
      "  font.set_text(s, 0, flags=flags)\n",
      "C:\\Users\\user\\Anaconda3\\lib\\site-packages\\matplotlib\\backends\\backend_agg.py:183: RuntimeWarning: Glyph 44552 missing from current font.\n",
      "  font.set_text(s, 0, flags=flags)\n",
      "C:\\Users\\user\\Anaconda3\\lib\\site-packages\\matplotlib\\backends\\backend_agg.py:183: RuntimeWarning: Glyph 52380 missing from current font.\n",
      "  font.set_text(s, 0, flags=flags)\n",
      "C:\\Users\\user\\Anaconda3\\lib\\site-packages\\matplotlib\\backends\\backend_agg.py:183: RuntimeWarning: Glyph 45432 missing from current font.\n",
      "  font.set_text(s, 0, flags=flags)\n",
      "C:\\Users\\user\\Anaconda3\\lib\\site-packages\\matplotlib\\backends\\backend_agg.py:183: RuntimeWarning: Glyph 50896 missing from current font.\n",
      "  font.set_text(s, 0, flags=flags)\n",
      "C:\\Users\\user\\Anaconda3\\lib\\site-packages\\matplotlib\\backends\\backend_agg.py:183: RuntimeWarning: Glyph 46020 missing from current font.\n",
      "  font.set_text(s, 0, flags=flags)\n",
      "C:\\Users\\user\\Anaconda3\\lib\\site-packages\\matplotlib\\backends\\backend_agg.py:183: RuntimeWarning: Glyph 48393 missing from current font.\n",
      "  font.set_text(s, 0, flags=flags)\n",
      "C:\\Users\\user\\Anaconda3\\lib\\site-packages\\matplotlib\\backends\\backend_agg.py:183: RuntimeWarning: Glyph 45824 missing from current font.\n",
      "  font.set_text(s, 0, flags=flags)\n",
      "C:\\Users\\user\\Anaconda3\\lib\\site-packages\\matplotlib\\backends\\backend_agg.py:183: RuntimeWarning: Glyph 47928 missing from current font.\n",
      "  font.set_text(s, 0, flags=flags)\n",
      "C:\\Users\\user\\Anaconda3\\lib\\site-packages\\matplotlib\\backends\\backend_agg.py:183: RuntimeWarning: Glyph 51089 missing from current font.\n",
      "  font.set_text(s, 0, flags=flags)\n",
      "C:\\Users\\user\\Anaconda3\\lib\\site-packages\\matplotlib\\backends\\backend_agg.py:183: RuntimeWarning: Glyph 47560 missing from current font.\n",
      "  font.set_text(s, 0, flags=flags)\n",
      "C:\\Users\\user\\Anaconda3\\lib\\site-packages\\matplotlib\\backends\\backend_agg.py:183: RuntimeWarning: Glyph 54252 missing from current font.\n",
      "  font.set_text(s, 0, flags=flags)\n",
      "C:\\Users\\user\\Anaconda3\\lib\\site-packages\\matplotlib\\backends\\backend_agg.py:183: RuntimeWarning: Glyph 52488 missing from current font.\n",
      "  font.set_text(s, 0, flags=flags)\n",
      "C:\\Users\\user\\Anaconda3\\lib\\site-packages\\matplotlib\\backends\\backend_agg.py:183: RuntimeWarning: Glyph 49457 missing from current font.\n",
      "  font.set_text(s, 0, flags=flags)\n",
      "C:\\Users\\user\\Anaconda3\\lib\\site-packages\\matplotlib\\backends\\backend_agg.py:183: RuntimeWarning: Glyph 49569 missing from current font.\n",
      "  font.set_text(s, 0, flags=flags)\n",
      "C:\\Users\\user\\Anaconda3\\lib\\site-packages\\matplotlib\\backends\\backend_agg.py:183: RuntimeWarning: Glyph 54028 missing from current font.\n",
      "  font.set_text(s, 0, flags=flags)\n",
      "C:\\Users\\user\\Anaconda3\\lib\\site-packages\\matplotlib\\backends\\backend_agg.py:183: RuntimeWarning: Glyph 50577 missing from current font.\n",
      "  font.set_text(s, 0, flags=flags)\n",
      "C:\\Users\\user\\Anaconda3\\lib\\site-packages\\matplotlib\\backends\\backend_agg.py:183: RuntimeWarning: Glyph 50689 missing from current font.\n",
      "  font.set_text(s, 0, flags=flags)\n",
      "C:\\Users\\user\\Anaconda3\\lib\\site-packages\\matplotlib\\backends\\backend_agg.py:183: RuntimeWarning: Glyph 46321 missing from current font.\n",
      "  font.set_text(s, 0, flags=flags)\n",
      "C:\\Users\\user\\Anaconda3\\lib\\site-packages\\matplotlib\\backends\\backend_agg.py:183: RuntimeWarning: Glyph 50857 missing from current font.\n",
      "  font.set_text(s, 0, flags=flags)\n",
      "C:\\Users\\user\\Anaconda3\\lib\\site-packages\\matplotlib\\backends\\backend_agg.py:183: RuntimeWarning: Glyph 49328 missing from current font.\n",
      "  font.set_text(s, 0, flags=flags)\n",
      "C:\\Users\\user\\Anaconda3\\lib\\site-packages\\matplotlib\\backends\\backend_agg.py:183: RuntimeWarning: Glyph 51008 missing from current font.\n",
      "  font.set_text(s, 0, flags=flags)\n",
      "C:\\Users\\user\\Anaconda3\\lib\\site-packages\\matplotlib\\backends\\backend_agg.py:183: RuntimeWarning: Glyph 54217 missing from current font.\n",
      "  font.set_text(s, 0, flags=flags)\n",
      "C:\\Users\\user\\Anaconda3\\lib\\site-packages\\matplotlib\\backends\\backend_agg.py:183: RuntimeWarning: Glyph 51333 missing from current font.\n",
      "  font.set_text(s, 0, flags=flags)\n",
      "C:\\Users\\user\\Anaconda3\\lib\\site-packages\\matplotlib\\backends\\backend_agg.py:183: RuntimeWarning: Glyph 51473 missing from current font.\n",
      "  font.set_text(s, 0, flags=flags)\n",
      "C:\\Users\\user\\Anaconda3\\lib\\site-packages\\matplotlib\\backends\\backend_agg.py:183: RuntimeWarning: Glyph 46993 missing from current font.\n",
      "  font.set_text(s, 0, flags=flags)\n"
     ]
    },
    {
     "data": {
      "image/png": "[encoded data removed]",
      "text/plain": [
       "<Figure size 432x288 with 1 Axes>"
      ]
     },
     "metadata": {
      "needs_background": "light"
     },
     "output_type": "display_data"
    }
   ],
   "source": [
    "data.boxplot(column='hourly_wage', by='area1')"
   ]
  },
  {
   "cell_type": "code",
   "execution_count": 44,
   "metadata": {},
   "outputs": [],
   "source": [
    "##19. 시간당 급여를 box 차트로 표시(지역순으로)"
   ]
  },
  {
   "cell_type": "markdown",
   "metadata": {},
   "source": [
    "### Font Manager"
   ]
  },
  {
   "cell_type": "code",
   "execution_count": 148,
   "metadata": {},
   "outputs": [],
   "source": [
    "import matplotlib.font_manager as fm"
   ]
  },
  {
   "cell_type": "code",
   "execution_count": 149,
   "metadata": {},
   "outputs": [],
   "source": [
    "font_list = [(f.name, f.fname) for f in fm.fontManager.ttflist if 'Gothic' in f.name]"
   ]
  },
  {
   "cell_type": "code",
   "execution_count": 151,
   "metadata": {},
   "outputs": [
    {
     "name": "stdout",
     "output_type": "stream",
     "text": [
      "[('Showcard Gothic', 'C:\\\\WINDOWS\\\\Fonts\\\\SHOWG.TTF'), ('Franklin Gothic Demi Cond', 'C:\\\\Windows\\\\Fonts\\\\FRADMCN.TTF'), ('Century Gothic', 'C:\\\\WINDOWS\\\\Fonts\\\\GOTHIC.TTF'), ('Franklin Gothic Demi Cond', 'C:\\\\WINDOWS\\\\Fonts\\\\FRADMCN.TTF'), ('Yu Gothic', 'C:\\\\WINDOWS\\\\Fonts\\\\YuGothR.ttc'), ('Yu Gothic', 'C:\\\\Windows\\\\Fonts\\\\YuGothM.ttc'), ('Franklin Gothic Heavy', 'C:\\\\WINDOWS\\\\Fonts\\\\FRAHVIT.TTF'), ('Century Gothic', 'C:\\\\WINDOWS\\\\Fonts\\\\GOTHICBI.TTF'), ('Copperplate Gothic Light', 'C:\\\\Windows\\\\Fonts\\\\COPRGTL.TTF'), ('NanumBarunGothic', 'C:\\\\WINDOWS\\\\Fonts\\\\NanumBarunGothicLight.ttf'), ('NanumGothic', 'C:\\\\WINDOWS\\\\Fonts\\\\NanumGothic.ttf'), ('Yu Gothic', 'C:\\\\WINDOWS\\\\Fonts\\\\YuGothM.ttc'), ('Yu Gothic', 'C:\\\\WINDOWS\\\\Fonts\\\\YuGothB.ttc'), ('Yu Gothic', 'C:\\\\Windows\\\\Fonts\\\\YuGothR.ttc'), ('Century Gothic', 'C:\\\\WINDOWS\\\\Fonts\\\\GOTHICI.TTF'), ('NanumGothic', 'C:\\\\WINDOWS\\\\Fonts\\\\NanumGothicBold.ttf'), ('NanumGothic', 'C:\\\\WINDOWS\\\\Fonts\\\\NanumGothicLight.ttf'), ('Copperplate Gothic Bold', 'C:\\\\WINDOWS\\\\Fonts\\\\COPRGTB.TTF'), ('Franklin Gothic Demi', 'C:\\\\WINDOWS\\\\Fonts\\\\FRADMIT.TTF'), ('Franklin Gothic Demi', 'C:\\\\Windows\\\\Fonts\\\\FRADM.TTF'), ('MS Gothic', 'C:\\\\WINDOWS\\\\Fonts\\\\msgothic.ttc'), ('Franklin Gothic Book', 'C:\\\\Windows\\\\Fonts\\\\FRABK.TTF'), ('NanumBarunGothic', 'C:\\\\Windows\\\\Fonts\\\\NanumBarunGothic.ttf'), ('NanumGothic', 'C:\\\\Windows\\\\Fonts\\\\NanumGothicExtraBold.ttf'), ('Franklin Gothic Heavy', 'C:\\\\WINDOWS\\\\Fonts\\\\FRAHV.TTF'), ('Century Gothic', 'C:\\\\Windows\\\\Fonts\\\\GOTHICB.TTF'), ('Yu Gothic', 'C:\\\\WINDOWS\\\\Fonts\\\\YuGothL.ttc'), ('Franklin Gothic Book', 'C:\\\\WINDOWS\\\\Fonts\\\\FRABK.TTF'), ('NanumGothic', 'C:\\\\WINDOWS\\\\Fonts\\\\NanumGothicExtraBold.ttf'), ('Malgun Gothic', 'C:\\\\Windows\\\\Fonts\\\\malgun.ttf'), ('Copperplate Gothic Bold', 'C:\\\\Windows\\\\Fonts\\\\COPRGTB.TTF'), ('NanumBarunGothic', 'C:\\\\WINDOWS\\\\Fonts\\\\NanumBarunGothic.ttf'), ('NanumBarunGothic', 'C:\\\\Windows\\\\Fonts\\\\NanumBarunGothicBold.ttf'), ('HYGothic-Medium', 'C:\\\\WINDOWS\\\\Fonts\\\\H2GTRM.TTF'), ('NanumGothic', 'C:\\\\Windows\\\\Fonts\\\\NanumGothicLight.ttf'), ('NanumBarunGothic', 'C:\\\\WINDOWS\\\\Fonts\\\\NanumBarunGothicBold.ttf'), ('Malgun Gothic', 'C:\\\\WINDOWS\\\\Fonts\\\\malgunsl.ttf'), ('Franklin Gothic Medium', 'C:\\\\WINDOWS\\\\Fonts\\\\framd.ttf'), ('HYGothic-Medium', 'C:\\\\Windows\\\\Fonts\\\\H2GTRM.TTF'), ('Franklin Gothic Medium Cond', 'C:\\\\WINDOWS\\\\Fonts\\\\FRAMDCN.TTF'), ('NanumGothic', 'C:\\\\Windows\\\\Fonts\\\\NanumGothicBold.ttf'), ('Malgun Gothic', 'C:\\\\WINDOWS\\\\Fonts\\\\malgunbd.ttf'), ('Malgun Gothic', 'C:\\\\Windows\\\\Fonts\\\\malgunsl.ttf'), ('Yu Gothic', 'C:\\\\Windows\\\\Fonts\\\\YuGothB.ttc'), ('Copperplate Gothic Light', 'C:\\\\WINDOWS\\\\Fonts\\\\COPRGTL.TTF'), ('Showcard Gothic', 'C:\\\\Windows\\\\Fonts\\\\SHOWG.TTF'), ('NanumBarunGothic', 'C:\\\\WINDOWS\\\\Fonts\\\\NanumBarunGothicUltraLight.ttf'), ('Franklin Gothic Book', 'C:\\\\WINDOWS\\\\Fonts\\\\FRABKIT.TTF'), ('Franklin Gothic Medium Cond', 'C:\\\\Windows\\\\Fonts\\\\FRAMDCN.TTF'), ('MS Gothic', 'C:\\\\Windows\\\\Fonts\\\\msgothic.ttc'), ('Franklin Gothic Heavy', 'C:\\\\Windows\\\\Fonts\\\\FRAHVIT.TTF'), ('HYGothic-Extra', 'C:\\\\WINDOWS\\\\Fonts\\\\H2GTRE.TTF'), ('Malgun Gothic', 'C:\\\\Windows\\\\Fonts\\\\malgunbd.ttf'), ('Franklin Gothic Medium', 'C:\\\\Windows\\\\Fonts\\\\framdit.ttf'), ('Century Gothic', 'C:\\\\WINDOWS\\\\Fonts\\\\GOTHICB.TTF'), ('Franklin Gothic Heavy', 'C:\\\\Windows\\\\Fonts\\\\FRAHV.TTF'), ('Franklin Gothic Demi', 'C:\\\\Windows\\\\Fonts\\\\FRADMIT.TTF'), ('HYGothic-Extra', 'C:\\\\Windows\\\\Fonts\\\\H2GTRE.TTF'), ('Malgun Gothic', 'C:\\\\WINDOWS\\\\Fonts\\\\malgun.ttf'), ('Franklin Gothic Demi', 'C:\\\\WINDOWS\\\\Fonts\\\\FRADM.TTF'), ('Yu Gothic', 'C:\\\\Windows\\\\Fonts\\\\YuGothL.ttc'), ('NanumGothic', 'C:\\\\Windows\\\\Fonts\\\\NanumGothic.ttf'), ('Franklin Gothic Book', 'C:\\\\Windows\\\\Fonts\\\\FRABKIT.TTF'), ('Franklin Gothic Medium', 'C:\\\\WINDOWS\\\\Fonts\\\\framdit.ttf'), ('Century Gothic', 'C:\\\\Windows\\\\Fonts\\\\GOTHICI.TTF'), ('Century Gothic', 'C:\\\\Windows\\\\Fonts\\\\GOTHIC.TTF'), ('NanumBarunGothic', 'C:\\\\Windows\\\\Fonts\\\\NanumBarunGothicLight.ttf'), ('NanumBarunGothic', 'C:\\\\Windows\\\\Fonts\\\\NanumBarunGothicUltraLight.ttf'), ('Franklin Gothic Medium', 'C:\\\\Windows\\\\Fonts\\\\framd.ttf'), ('Century Gothic', 'C:\\\\Windows\\\\Fonts\\\\GOTHICBI.TTF')]\n"
     ]
    }
   ],
   "source": [
    "print(font_list)"
   ]
  },
  {
   "cell_type": "code",
   "execution_count": 153,
   "metadata": {},
   "outputs": [],
   "source": [
    "font_name = fm.FontProperties(fname='C:\\\\WINDOWS\\\\Fonts\\\\malgunsl.ttf').get_name()"
   ]
  },
  {
   "cell_type": "code",
   "execution_count": 154,
   "metadata": {},
   "outputs": [
    {
     "name": "stdout",
     "output_type": "stream",
     "text": [
      "Malgun Gothic\n"
     ]
    }
   ],
   "source": [
    "print(font_name)"
   ]
  },
  {
   "cell_type": "code",
   "execution_count": 156,
   "metadata": {},
   "outputs": [],
   "source": [
    "plt.rc('font',family=font_name)"
   ]
  },
  {
   "cell_type": "code",
   "execution_count": 45,
   "metadata": {},
   "outputs": [],
   "source": [
    "##20. 한글 표시되게 matplotlib 지정"
   ]
  },
  {
   "cell_type": "code",
   "execution_count": 157,
   "metadata": {},
   "outputs": [
    {
     "data": {
      "text/plain": [
       "<matplotlib.axes._subplots.AxesSubplot at 0x11b80fabda0>"
      ]
     },
     "execution_count": 157,
     "metadata": {},
     "output_type": "execute_result"
    },
    {
     "data": {
      "image/png": "[encoded data removed]",
      "text/plain": [
       "<Figure size 432x288 with 1 Axes>"
      ]
     },
     "metadata": {
      "needs_background": "light"
     },
     "output_type": "display_data"
    }
   ],
   "source": [
    "data.boxplot(column='hourly_wage', by='area1')"
   ]
  },
  {
   "cell_type": "code",
   "execution_count": 46,
   "metadata": {},
   "outputs": [],
   "source": [
    "##21. 시간당 급여를 box 차트로 표시(지역순으로) <- 다시 실행"
   ]
  },
  {
   "cell_type": "code",
   "execution_count": 161,
   "metadata": {},
   "outputs": [
    {
     "data": {
      "image/png": "[encoded data removed]",
      "text/plain": [
       "<Figure size 432x288 with 1 Axes>"
      ]
     },
     "metadata": {
      "needs_background": "light"
     },
     "output_type": "display_data"
    }
   ],
   "source": [
    "data.boxplot(column='hourly_wage', by='area1')\n",
    "plt.xticks(fontsize=6)\n",
    "plt.show()"
   ]
  },
  {
   "cell_type": "code",
   "execution_count": 47,
   "metadata": {},
   "outputs": [],
   "source": [
    "##22-1. 지역구별 box 차트(플롯) \n",
    "##22-2. 폰트 사이즈 6"
   ]
  },
  {
   "cell_type": "code",
   "execution_count": 160,
   "metadata": {},
   "outputs": [
    {
     "data": {
      "image/png": "[encoded data removed]",
      "text/plain": [
       "<Figure size 432x288 with 1 Axes>"
      ]
     },
     "metadata": {
      "needs_background": "light"
     },
     "output_type": "display_data"
    }
   ],
   "source": [
    "data.boxplot(column='hourly_wage', by='area1', vert=False)\n",
    "plt.xticks(fontsize=6)\n",
    "plt.show()"
   ]
  },
  {
   "cell_type": "code",
   "execution_count": 49,
   "metadata": {},
   "outputs": [],
   "source": [
    "##23-1. 지역구별 box 차트(플롯), 지역구가 세로로 표시\n",
    "##23-2. 폰트 사이즈 6"
   ]
  },
  {
   "cell_type": "code",
   "execution_count": null,
   "metadata": {},
   "outputs": [],
   "source": []
  }
 ],
 "metadata": {
  "kernelspec": {
   "display_name": "Python 3",
   "language": "python",
   "name": "python3"
  },
  "language_info": {
   "codemirror_mode": {
    "name": "ipython",
    "version": 3
   },
   "file_extension": ".py",
   "mimetype": "text/x-python",
   "name": "python",
   "nbconvert_exporter": "python",
   "pygments_lexer": "ipython3",
   "version": "3.7.3"
  }
 },
 "nbformat": 4,
 "nbformat_minor": 2
}
